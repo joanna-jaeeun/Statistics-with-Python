{
 "cells": [
  {
   "cell_type": "markdown",
   "id": "a91cacee",
   "metadata": {},
   "source": [
    "# Independtly and identically distributed\n",
    "- 서로 독립이고 각각 동일한 확률 분포를 따르는 다차원 확률변수\n",
    "- 동일한 조건 아래에서 수행되는 실험이나 관측을 여러번 반복하여 데이터를 얻는 것"
   ]
  },
  {
   "cell_type": "code",
   "execution_count": 3,
   "id": "c5fcb554",
   "metadata": {},
   "outputs": [],
   "source": [
    "import numpy as np\n",
    "import matplotlib.pyplot as plt\n",
    "from scipy import stats\n",
    "\n",
    "np.random.seed(0)\n",
    "%precision 3\n",
    "%matplotlib inline"
   ]
  },
  {
   "cell_type": "code",
   "execution_count": 4,
   "id": "8a661fc7",
   "metadata": {},
   "outputs": [],
   "source": [
    "linestyles = ['-', '--', ':', '-.']\n",
    "\n",
    "def E(XY, g):\n",
    "    x_set, y_set, f_XY = XY\n",
    "    return np.sum([g(x_i, y_j) * f_XY(x_i, y_j)\n",
    "                   for x_i in x_set for y_j in y_set])\n",
    "\n",
    "def Cov(XY):\n",
    "    x_set, y_set, f_XY = XY\n",
    "    mean_X = E(XY, lambda x, y: x)\n",
    "    mean_Y = E(XY, lambda x, y: y)\n",
    "    return np.sum([(x_i-mean_X) * (y_j-mean_Y) * f_XY(x_i, y_j)\n",
    "                    for x_i in x_set for y_j in y_set])\n",
    "\n",
    "def f_X(x):\n",
    "    return np.sum([f_XY(x, y_k) for y_k in y_set])\n",
    "\n",
    "def f_Y(y):\n",
    "    return np.sum([f_XY(x_k, y) for x_k in x_set])"
   ]
  },
  {
   "cell_type": "markdown",
   "id": "afeec41f",
   "metadata": {},
   "source": [
    "# 9.1 Independence"
   ]
  },
  {
   "cell_type": "markdown",
   "id": "4995eef9",
   "metadata": {},
   "source": [
    "### 9.1.2 Independence and 무상관성 \n",
    "- 독립 -> 무상관 ( 100 % ) 독립이 조금 더 강한 개념이다\n",
    "- 무상관 -> 독립 ( 100 % x )\n",
    "\n",
    "##\n",
    "두 확률 변수 사이에 선형 관계가 없더라도 서로 영향을 끼치는 경우가 있다 ⭐️"
   ]
  },
  {
   "cell_type": "code",
   "execution_count": 5,
   "id": "b240eaa7",
   "metadata": {},
   "outputs": [],
   "source": [
    "x_set = np.array([1,2,3,4,5,6])\n",
    "y_set = np.array([1, 2, 3, 4, 5, 6])\n",
    "\n",
    "def f_XY(x, y):\n",
    "    if x in x_set and y in y_set :\n",
    "        return x * y / 441\n",
    "    else :\n",
    "        return 0\n",
    "\n",
    "XY = [x_set, y_set, f_XY]"
   ]
  },
  {
   "cell_type": "code",
   "execution_count": null,
   "id": "fb59b0fa",
   "metadata": {},
   "outputs": [
    {
     "data": {
      "text/plain": [
       "-0.000"
      ]
     },
     "execution_count": 6,
     "metadata": {},
     "output_type": "execute_result"
    }
   ],
   "source": [
    "Cov(XY) # no related "
   ]
  },
  {
   "cell_type": "code",
   "execution_count": 8,
   "id": "d01eadb3",
   "metadata": {},
   "outputs": [],
   "source": [
    "x_set = np.array([0, 1])\n",
    "y_set = np.array([-1, 0, 1])\n",
    "\n",
    "def f_XY(x, y) :\n",
    "    if (x, y) in [(0, 0), (1, 1), (1, -1)]:\n",
    "        return 1 / 3\n",
    "    else :\n",
    "        return 0\n",
    "    \n",
    "XY = [x_set, y_set, f_XY]"
   ]
  },
  {
   "cell_type": "code",
   "execution_count": null,
   "id": "30a2708d",
   "metadata": {},
   "outputs": [
    {
     "data": {
      "text/plain": [
       "0.000"
      ]
     },
     "execution_count": 9,
     "metadata": {},
     "output_type": "execute_result"
    }
   ],
   "source": [
    "Cov(XY) # no related "
   ]
  },
  {
   "cell_type": "code",
   "execution_count": 12,
   "id": "adc472cc",
   "metadata": {},
   "outputs": [
    {
     "data": {
      "text/plain": [
       "(0.111, 0.333)"
      ]
     },
     "execution_count": 12,
     "metadata": {},
     "output_type": "execute_result"
    }
   ],
   "source": [
    "f_X(0) * f_Y(0), f_XY(0, 0)\n",
    "\n",
    "# not equal -> not strong independence"
   ]
  },
  {
   "cell_type": "markdown",
   "id": "be432a1b",
   "metadata": {},
   "source": [
    "## 9.2 Distribution of sum\n",
    "- 서로 독립이고 동일한 확률 분포를 따르는 확률변수 X1, X2, ...의 합이 따르는 확률 분포를 말함"
   ]
  },
  {
   "cell_type": "markdown",
   "id": "3cc8aea4",
   "metadata": {},
   "source": [
    "- 기댓값은 선형성이 성립한다. 선형성을 n차원으로 확장 하면 E(X1,+ X2+ ... Xn) = E(X1) + E(X2)"
   ]
  },
  {
   "cell_type": "code",
   "execution_count": null,
   "id": "c3fe523a",
   "metadata": {},
   "outputs": [],
   "source": []
  }
 ],
 "metadata": {
  "kernelspec": {
   "display_name": "ds_study",
   "language": "python",
   "name": "python3"
  },
  "language_info": {
   "codemirror_mode": {
    "name": "ipython",
    "version": 3
   },
   "file_extension": ".py",
   "mimetype": "text/x-python",
   "name": "python",
   "nbconvert_exporter": "python",
   "pygments_lexer": "ipython3",
   "version": "3.12.7"
  }
 },
 "nbformat": 4,
 "nbformat_minor": 5
}

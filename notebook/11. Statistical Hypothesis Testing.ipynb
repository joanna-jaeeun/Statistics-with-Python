{
 "cells": [
  {
   "cell_type": "markdown",
   "id": "8320e120",
   "metadata": {},
   "source": [
    "# Statistical Hypothesis Testing\n",
    "- 모집단의 모수에 관한 가설을 세우고 표본의 정보를 이용해 그 가설을 검증하는 기법"
   ]
  },
  {
   "cell_type": "code",
   "execution_count": 2,
   "id": "ffffb9ad",
   "metadata": {},
   "outputs": [],
   "source": [
    "import numpy as np\n",
    "import pandas as pd\n",
    "import matplotlib.pyplot as plt\n",
    "from scipy import stats\n",
    "import statsmodels.formula.api as smf\n",
    "\n",
    "%precision 3\n",
    "%matplotlib inline"
   ]
  },
  {
   "cell_type": "code",
   "execution_count": null,
   "id": "aa331d10",
   "metadata": {},
   "outputs": [
    {
     "data": {
      "text/plain": [
       "array([122.02, 131.73, 130.6 , 131.82, 132.05, 126.12, 124.43, 132.89,\n",
       "       122.79, 129.95, 126.14, 134.45, 127.64, 125.68])"
      ]
     },
     "execution_count": 4,
     "metadata": {},
     "output_type": "execute_result"
    }
   ],
   "source": [
    "# To check the weight of fries over 130g \n",
    "df = pd.read_csv('../data/ch11_potato.csv')\n",
    "sample = np.array(df['무게']) #Weight\n",
    "sample"
   ]
  },
  {
   "cell_type": "code",
   "execution_count": 5,
   "id": "c0598471",
   "metadata": {},
   "outputs": [
    {
     "data": {
      "text/plain": [
       "128.451"
      ]
     },
     "execution_count": 5,
     "metadata": {},
     "output_type": "execute_result"
    }
   ],
   "source": [
    "s_mean = np.mean(sample)\n",
    "s_mean"
   ]
  },
  {
   "cell_type": "markdown",
   "id": "8b3e432e",
   "metadata": {},
   "source": [
    "## 11.1 Statistical Hypothesis Testing"
   ]
  },
  {
   "cell_type": "markdown",
   "id": "cedf8e57",
   "metadata": {},
   "source": [
    "### 1.1.1 flow of hypothesis testing"
   ]
  },
  {
   "cell_type": "code",
   "execution_count": null,
   "id": "b7c8114f",
   "metadata": {},
   "outputs": [
    {
     "data": {
      "text/plain": [
       "128.681"
      ]
     },
     "execution_count": 8,
     "metadata": {},
     "output_type": "execute_result"
    }
   ],
   "source": [
    "# 1)  \n",
    "rv = stats.norm(130, np.sqrt(9/14))\n",
    "rv.isf(0.95) # 표본 평균이 128.681 이하의 무게가 되는 것이 5퍼센트 이하의 확률로 발생한다.\n",
    "\n",
    "# 2) 모평균이 130인게 맞아? 더 적은 숫자 아닐까?"
   ]
  },
  {
   "cell_type": "markdown",
   "id": "dc13adea",
   "metadata": {},
   "source": [
    "- 귀무가설 (null hypothesis) : 차이가 있다, 효과가 있다  H0\n",
    "- 대립가설 (alternative hypothesis) : 차이가 없다, 효과가 없다 H1\n",
    "######\n",
    "- reject the null hypothesis : the n.h is wrong, significant  \n",
    "- accpet the null hypothesis : Can't say the n.h is wrong (=/= n.h is right)\n",
    "######\n",
    "- rejection region\n",
    "- acceptance region\n",
    "#####\n",
    "- 기각역에 들어가는 확률을 정하고 검정을 수행해야한다. : 유의 수준 (level of significant) 5%\n",
    "- 경계선상의 값을 임곗값 critical value 128.681\n",
    "- 검정에 사용되는 통계값을 검정 통계량 test statistic sample value\n",
    "####\n",
    "- p_value < 유의수준 : reject null hypothesis vs accept\n"
   ]
  },
  {
   "cell_type": "code",
   "execution_count": null,
   "id": "8f76f044",
   "metadata": {},
   "outputs": [
    {
     "data": {
      "text/plain": [
       "-1.932"
      ]
     },
     "execution_count": 9,
     "metadata": {},
     "output_type": "execute_result"
    }
   ],
   "source": [
    "# Test statistic sample value (standalization)\n",
    "z = (s_mean - 130) / np.sqrt(9/14)\n",
    "z\n"
   ]
  },
  {
   "cell_type": "code",
   "execution_count": null,
   "id": "b06dd410",
   "metadata": {},
   "outputs": [
    {
     "data": {
      "text/plain": [
       "-1.645"
      ]
     },
     "execution_count": 11,
     "metadata": {},
     "output_type": "execute_result"
    }
   ],
   "source": [
    "# Critical value\n",
    "rv = stats.norm()\n",
    "rv.isf(0.95)\n",
    "\n",
    "# Reject n.h and sample mean is lower than 130 g"
   ]
  },
  {
   "cell_type": "code",
   "execution_count": 12,
   "id": "0201d1e3",
   "metadata": {},
   "outputs": [
    {
     "data": {
      "text/plain": [
       "0.027"
      ]
     },
     "execution_count": 12,
     "metadata": {},
     "output_type": "execute_result"
    }
   ],
   "source": [
    "# Check the p \n",
    "rv.cdf(z)"
   ]
  },
  {
   "cell_type": "markdown",
   "id": "b6e6d7a1",
   "metadata": {},
   "source": [
    "### 11.1.2. One-tailed test & two-tailed test\n",
    "- 모평균은 130g 이 아니다 라는 대립가설로 가설검정을 수행할 때도 있다\n",
    "- 이의 경우에 130g보다 큰 경우도 고려하는데 이를 two-tailed test 라고 한다\n",
    "- 단측 검정 측의 기각역이 더 넓다  : 양측 검정 보다 귀무가설을 기각하기 쉽다"
   ]
  },
  {
   "cell_type": "code",
   "execution_count": 13,
   "id": "b32fa42b",
   "metadata": {},
   "outputs": [
    {
     "data": {
      "text/plain": [
       "-1.932"
      ]
     },
     "execution_count": 13,
     "metadata": {},
     "output_type": "execute_result"
    }
   ],
   "source": [
    "z = (s_mean - 130) / np.sqrt(9/14)\n",
    "z"
   ]
  },
  {
   "cell_type": "code",
   "execution_count": 14,
   "id": "2638e1b9",
   "metadata": {},
   "outputs": [
    {
     "data": {
      "text/plain": [
       "(-1.960, 1.960)"
      ]
     },
     "execution_count": 14,
     "metadata": {},
     "output_type": "execute_result"
    }
   ],
   "source": [
    "rv = stats.norm()\n",
    "rv.interval(0.95)"
   ]
  },
  {
   "cell_type": "code",
   "execution_count": 15,
   "id": "794b9ddf",
   "metadata": {},
   "outputs": [
    {
     "data": {
      "text/plain": [
       "0.053"
      ]
     },
     "execution_count": 15,
     "metadata": {},
     "output_type": "execute_result"
    }
   ],
   "source": [
    "# Two side → two times \n",
    "rv.cdf(z) * 2"
   ]
  },
  {
   "cell_type": "markdown",
   "id": "cb58356a",
   "metadata": {},
   "source": [
    "### 11.1.3. Two errors\n",
    "- 제 1종 오류 : 귀무가설이 옳을 때, 귀무가설을 기각하는 오류 - 위험률         - 분석가 제어 가능\n",
    "- 제 2종 오류 : 대립가설일 옳을 때, 귀무가설을 채택하는 오류 - 검정력 power   - 분석가 제어 불가"
   ]
  },
  {
   "cell_type": "code",
   "execution_count": null,
   "id": "2876f693",
   "metadata": {},
   "outputs": [],
   "source": [
    "# 1종 오류 : 모평균이 130g인데도 평균은 130g보다 작다에 도달하는 경우 \n",
    "# 모집단의 확률 분포\n",
    "rv = stats.norm(130, 3)"
   ]
  },
  {
   "cell_type": "code",
   "execution_count": null,
   "id": "a6fae651",
   "metadata": {},
   "outputs": [
    {
     "data": {
      "text/plain": [
       "0.053"
      ]
     },
     "execution_count": 18,
     "metadata": {},
     "output_type": "execute_result"
    }
   ],
   "source": [
    "c = stats.norm().isf(0.95)\n",
    "n_samples = 10000                     # 2) Testing 10000 times\n",
    "cnt = 0\n",
    "for _ in range(n_samples):\n",
    "    sample_ = np.round(rv.rvs(14), 2) # 1) Select 14 sample\n",
    "    s_mean_ = np.mean(sample_)\n",
    "    z = (s_mean_ - 130) / np.sqrt(9/14)\n",
    "    if z < c:\n",
    "        cnt += 1\n",
    "cnt / n_samples\n",
    "\n",
    "# False positive : 0.053"
   ]
  },
  {
   "cell_type": "code",
   "execution_count": 21,
   "id": "be7d2418",
   "metadata": {},
   "outputs": [
    {
     "data": {
      "text/plain": [
       "0.195"
      ]
     },
     "execution_count": 21,
     "metadata": {},
     "output_type": "execute_result"
    }
   ],
   "source": [
    "# 2종 오류 : 모평균이 130g 보다 작다 인데도, 이 결론을 얻을 수 없는 상황 (미탐 false negative)\n",
    "rv = stats.norm(128, 3)\n",
    "\n",
    "c = stats.norm().isf(0.95)\n",
    "n_samples = 10000\n",
    "cnt = 0\n",
    "for _ in range(n_samples):\n",
    "    sample_ = np.round(rv.rvs(14), 2)\n",
    "    s_mean_ = np.mean(sample_)\n",
    "    z = (s_mean_ - 130) / np.sqrt(9/14)\n",
    "    if z >= c:\n",
    "        cnt += 1\n",
    "        \n",
    "cnt / n_samples"
   ]
  },
  {
   "cell_type": "code",
   "execution_count": null,
   "id": "c414719e",
   "metadata": {},
   "outputs": [],
   "source": []
  }
 ],
 "metadata": {
  "kernelspec": {
   "display_name": "ds_study",
   "language": "python",
   "name": "python3"
  },
  "language_info": {
   "codemirror_mode": {
    "name": "ipython",
    "version": 3
   },
   "file_extension": ".py",
   "mimetype": "text/x-python",
   "name": "python",
   "nbconvert_exporter": "python",
   "pygments_lexer": "ipython3",
   "version": "3.12.7"
  }
 },
 "nbformat": 4,
 "nbformat_minor": 5
}

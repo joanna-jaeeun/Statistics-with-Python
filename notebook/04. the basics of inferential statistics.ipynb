{
 "cells": [
  {
   "cell_type": "markdown",
   "id": "a95daa77",
   "metadata": {},
   "source": [
    "# The basics of inferential statistics"
   ]
  },
  {
   "cell_type": "markdown",
   "id": "efdd391b",
   "metadata": {},
   "source": [
    "## 4.1 Population and sample"
   ]
  },
  {
   "cell_type": "markdown",
   "id": "3bcbf086",
   "metadata": {},
   "source": [
    "### 4.1.1 Method of sampling\n",
    "- Estimator \n",
    "- Estimate\n",
    "\n",
    "        → Estimate the population through a sample"
   ]
  },
  {
   "cell_type": "markdown",
   "id": "306c4e2d",
   "metadata": {},
   "source": [
    "- random sampling / independent and identically distributed\n",
    "- sampling with replacement\n",
    "- sampling without replacement"
   ]
  },
  {
   "cell_type": "code",
   "execution_count": 1,
   "id": "921e5b7c",
   "metadata": {},
   "outputs": [],
   "source": [
    "import numpy as np\n",
    "import pandas as pd\n",
    "import matplotlib.pyplot as plt\n",
    "\n",
    "%precision 3\n",
    "%matplotlib inline"
   ]
  },
  {
   "cell_type": "code",
   "execution_count": 2,
   "id": "9b41b619",
   "metadata": {},
   "outputs": [
    {
     "data": {
      "text/plain": [
       "array([76, 55, 80, 80, 74, 61, 81, 76, 23, 80])"
      ]
     },
     "execution_count": 2,
     "metadata": {},
     "output_type": "execute_result"
    }
   ],
   "source": [
    "df = pd.read_csv('../data/ch4_scores400.csv')\n",
    "scores = np.array(df['score'])\n",
    "scores[:10]"
   ]
  },
  {
   "cell_type": "code",
   "execution_count": 10,
   "id": "b9088d45",
   "metadata": {},
   "outputs": [
    {
     "data": {
      "text/plain": [
       "array([1, 3, 1])"
      ]
     },
     "execution_count": 10,
     "metadata": {},
     "output_type": "execute_result"
    }
   ],
   "source": [
    "# random & with replacement\n",
    "np.random.choice([1, 2, 3], 3)"
   ]
  },
  {
   "cell_type": "code",
   "execution_count": 9,
   "id": "abe471ab",
   "metadata": {},
   "outputs": [
    {
     "data": {
      "text/plain": [
       "array([2, 1, 3])"
      ]
     },
     "execution_count": 9,
     "metadata": {},
     "output_type": "execute_result"
    }
   ],
   "source": [
    "# random & without replacement\n",
    "np.random.choice([1, 2, 3], 3, replace=False)"
   ]
  },
  {
   "cell_type": "code",
   "execution_count": 19,
   "id": "84a07532",
   "metadata": {},
   "outputs": [
    {
     "data": {
      "text/plain": [
       "array([1, 2, 1])"
      ]
     },
     "execution_count": 19,
     "metadata": {},
     "output_type": "execute_result"
    }
   ],
   "source": [
    "np.random.seed(0)\n",
    "np.random.choice([1, 2, 3], 3)"
   ]
  },
  {
   "cell_type": "code",
   "execution_count": 20,
   "id": "d58cd04f",
   "metadata": {},
   "outputs": [
    {
     "data": {
      "text/plain": [
       "70.400"
      ]
     },
     "execution_count": 20,
     "metadata": {},
     "output_type": "execute_result"
    }
   ],
   "source": [
    "np.random.seed(0)\n",
    "sample = np.random.choice(scores, 20)\n",
    "sample.mean()"
   ]
  },
  {
   "cell_type": "code",
   "execution_count": 18,
   "id": "9cc4be90",
   "metadata": {},
   "outputs": [
    {
     "data": {
      "text/plain": [
       "69.530"
      ]
     },
     "execution_count": 18,
     "metadata": {},
     "output_type": "execute_result"
    }
   ],
   "source": [
    "scores.mean()"
   ]
  },
  {
   "cell_type": "code",
   "execution_count": 22,
   "id": "4131953c",
   "metadata": {},
   "outputs": [
    {
     "name": "stdout",
     "output_type": "stream",
     "text": [
      "1번째 무작위 추출로 얻은 표본평균 74.4\n",
      "2번째 무작위 추출로 얻은 표본평균 74.65\n",
      "3번째 무작위 추출로 얻은 표본평균 70.95\n",
      "4번째 무작위 추출로 얻은 표본평균 71.15\n",
      "5번째 무작위 추출로 얻은 표본평균 70.1\n"
     ]
    }
   ],
   "source": [
    "for i in range(5):\n",
    "    #np.random.seed(1)\n",
    "    sample = np.random.choice(scores, 20)\n",
    "    print(f'{i+1}번째 무작위 추출로 얻은 표본평균', sample.mean())"
   ]
  },
  {
   "cell_type": "markdown",
   "id": "ce43a020",
   "metadata": {},
   "source": []
  },
  {
   "cell_type": "markdown",
   "id": "a7009b3c",
   "metadata": {},
   "source": []
  }
 ],
 "metadata": {
  "kernelspec": {
   "display_name": "ds_study",
   "language": "python",
   "name": "python3"
  },
  "language_info": {
   "codemirror_mode": {
    "name": "ipython",
    "version": 3
   },
   "file_extension": ".py",
   "mimetype": "text/x-python",
   "name": "python",
   "nbconvert_exporter": "python",
   "pygments_lexer": "ipython3",
   "version": "3.12.7"
  }
 },
 "nbformat": 4,
 "nbformat_minor": 5
}

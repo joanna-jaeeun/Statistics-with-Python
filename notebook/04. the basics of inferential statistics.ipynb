{
 "cells": [
  {
   "cell_type": "markdown",
   "id": "a95daa77",
   "metadata": {},
   "source": [
    "# The basics of inferential statistics"
   ]
  },
  {
   "cell_type": "markdown",
   "id": "efdd391b",
   "metadata": {},
   "source": [
    "## 4.1 Population and sample"
   ]
  },
  {
   "cell_type": "markdown",
   "id": "3bcbf086",
   "metadata": {},
   "source": [
    "### 4.1.1 Method of sampling\n",
    "- Estimator \n",
    "- Estimate\n",
    "\n",
    "        → Estimate the population through a sample"
   ]
  },
  {
   "cell_type": "markdown",
   "id": "306c4e2d",
   "metadata": {},
   "source": [
    "- random sampling / independent and identically distributed\n",
    "- sampling with replacement\n",
    "- sampling without replacement"
   ]
  },
  {
   "cell_type": "code",
   "execution_count": 1,
   "id": "921e5b7c",
   "metadata": {},
   "outputs": [],
   "source": [
    "import numpy as np\n",
    "import pandas as pd\n",
    "import matplotlib.pyplot as plt\n",
    "\n",
    "%precision 3\n",
    "%matplotlib inline"
   ]
  },
  {
   "cell_type": "code",
   "execution_count": 2,
   "id": "9b41b619",
   "metadata": {},
   "outputs": [
    {
     "data": {
      "text/plain": [
       "array([76, 55, 80, 80, 74, 61, 81, 76, 23, 80])"
      ]
     },
     "execution_count": 2,
     "metadata": {},
     "output_type": "execute_result"
    }
   ],
   "source": [
    "df = pd.read_csv('../data/ch4_scores400.csv')\n",
    "scores = np.array(df['score'])\n",
    "scores[:10]"
   ]
  },
  {
   "cell_type": "code",
   "execution_count": 10,
   "id": "b9088d45",
   "metadata": {},
   "outputs": [
    {
     "data": {
      "text/plain": [
       "array([1, 3, 1])"
      ]
     },
     "execution_count": 10,
     "metadata": {},
     "output_type": "execute_result"
    }
   ],
   "source": [
    "# random & with replacement\n",
    "np.random.choice([1, 2, 3], 3)"
   ]
  },
  {
   "cell_type": "code",
   "execution_count": 9,
   "id": "abe471ab",
   "metadata": {},
   "outputs": [
    {
     "data": {
      "text/plain": [
       "array([2, 1, 3])"
      ]
     },
     "execution_count": 9,
     "metadata": {},
     "output_type": "execute_result"
    }
   ],
   "source": [
    "# random & without replacement\n",
    "np.random.choice([1, 2, 3], 3, replace=False)"
   ]
  },
  {
   "cell_type": "code",
   "execution_count": 19,
   "id": "84a07532",
   "metadata": {},
   "outputs": [
    {
     "data": {
      "text/plain": [
       "array([1, 2, 1])"
      ]
     },
     "execution_count": 19,
     "metadata": {},
     "output_type": "execute_result"
    }
   ],
   "source": [
    "np.random.seed(0)\n",
    "np.random.choice([1, 2, 3], 3)"
   ]
  },
  {
   "cell_type": "code",
   "execution_count": 20,
   "id": "d58cd04f",
   "metadata": {},
   "outputs": [
    {
     "data": {
      "text/plain": [
       "70.400"
      ]
     },
     "execution_count": 20,
     "metadata": {},
     "output_type": "execute_result"
    }
   ],
   "source": [
    "np.random.seed(0)\n",
    "sample = np.random.choice(scores, 20)\n",
    "sample.mean()"
   ]
  },
  {
   "cell_type": "code",
   "execution_count": 18,
   "id": "9cc4be90",
   "metadata": {},
   "outputs": [
    {
     "data": {
      "text/plain": [
       "69.530"
      ]
     },
     "execution_count": 18,
     "metadata": {},
     "output_type": "execute_result"
    }
   ],
   "source": [
    "scores.mean()"
   ]
  },
  {
   "cell_type": "code",
   "execution_count": 22,
   "id": "4131953c",
   "metadata": {},
   "outputs": [
    {
     "name": "stdout",
     "output_type": "stream",
     "text": [
      "1번째 무작위 추출로 얻은 표본평균 74.4\n",
      "2번째 무작위 추출로 얻은 표본평균 74.65\n",
      "3번째 무작위 추출로 얻은 표본평균 70.95\n",
      "4번째 무작위 추출로 얻은 표본평균 71.15\n",
      "5번째 무작위 추출로 얻은 표본평균 70.1\n"
     ]
    }
   ],
   "source": [
    "for i in range(5):\n",
    "    #np.random.seed(1)\n",
    "    sample = np.random.choice(scores, 20)\n",
    "    print(f'{i+1}번째 무작위 추출로 얻은 표본평균', sample.mean())"
   ]
  },
  {
   "cell_type": "markdown",
   "id": "92ab89c6",
   "metadata": {},
   "source": [
    "## 4.2 Probability model"
   ]
  },
  {
   "cell_type": "markdown",
   "id": "74fb4ae9",
   "metadata": {},
   "source": [
    "### 4.2.1 Baisic of probability"
   ]
  },
  {
   "cell_type": "markdown",
   "id": "2d8397ab",
   "metadata": {},
   "source": [
    "- Probabilty : interprete the unpredictability\n",
    "- Random variable : 취하는 값과 그 값이 나올 확률이 결정되어 있는 것 (함수)\n",
    "#####\n",
    "- trial \n",
    "- realization\n",
    "- event \n",
    "\n",
    "####\n",
    "- Mutually exclusive – Events cannot happen simultaneously (eg. dice number = 1)\n",
    "\n"
   ]
  },
  {
   "cell_type": "markdown",
   "id": "ce43a020",
   "metadata": {},
   "source": [
    "### 4.2.2 Probability of distribution\n",
    "- 확률변수가 어떻게 움직이는지를 다룬다 eg. 주사위의 경우 눈 - 확률로 이루어진 표를 생각하기\n",
    "- 확률변수 X는 확률 분포 A를 따른다"
   ]
  },
  {
   "cell_type": "code",
   "execution_count": null,
   "id": "32f02eae",
   "metadata": {},
   "outputs": [],
   "source": [
    "# Abnormal dice\n",
    "dice = [1, 2, 3, 4, 5, 6]\n",
    "prob = [1/21, 2/21, 3/21, 4/21, 5/21, 6/21]"
   ]
  },
  {
   "cell_type": "code",
   "execution_count": 24,
   "id": "9d4e69c3",
   "metadata": {},
   "outputs": [
    {
     "data": {
      "text/plain": [
       "5"
      ]
     },
     "execution_count": 24,
     "metadata": {},
     "output_type": "execute_result"
    }
   ],
   "source": [
    "np.random.choice(dice, p = prob)"
   ]
  },
  {
   "cell_type": "code",
   "execution_count": 30,
   "id": "e901e6e9",
   "metadata": {},
   "outputs": [
    {
     "data": {
      "text/plain": [
       "array([4, 2, 6, 3, 2, 2, 3, 4, 2, 3, 6, 5, 6, 5, 4, 6, 5, 6, 3, 5, 4, 6,\n",
       "       6, 4, 6, 3, 1, 6, 4, 3, 1, 4, 6, 4, 5, 1, 4, 2, 5, 1, 4, 6, 4, 4,\n",
       "       2, 5, 6, 5, 3, 4, 6, 3, 1, 6, 4, 4, 5, 2, 6, 4, 6, 3, 3, 6, 3, 6,\n",
       "       5, 3, 5, 2, 1, 2, 4, 5, 6, 6, 3, 2, 3, 3, 4, 4, 5, 5, 2, 1, 6, 6,\n",
       "       1, 3, 4, 4, 3, 1, 5, 2, 5, 3, 4, 5])"
      ]
     },
     "execution_count": 30,
     "metadata": {},
     "output_type": "execute_result"
    }
   ],
   "source": [
    "# Try 10 times\n",
    "num_trial = 100\n",
    "sample = np.random.choice(dice, num_trial, p = prob)\n",
    "sample"
   ]
  },
  {
   "cell_type": "code",
   "execution_count": 31,
   "id": "15583053",
   "metadata": {},
   "outputs": [
    {
     "data": {
      "text/html": [
       "<div>\n",
       "<style scoped>\n",
       "    .dataframe tbody tr th:only-of-type {\n",
       "        vertical-align: middle;\n",
       "    }\n",
       "\n",
       "    .dataframe tbody tr th {\n",
       "        vertical-align: top;\n",
       "    }\n",
       "\n",
       "    .dataframe thead th {\n",
       "        text-align: right;\n",
       "    }\n",
       "</style>\n",
       "<table border=\"1\" class=\"dataframe\">\n",
       "  <thead>\n",
       "    <tr style=\"text-align: right;\">\n",
       "      <th></th>\n",
       "      <th>frequence</th>\n",
       "      <th>relative frequency</th>\n",
       "    </tr>\n",
       "    <tr>\n",
       "      <th>dice</th>\n",
       "      <th></th>\n",
       "      <th></th>\n",
       "    </tr>\n",
       "  </thead>\n",
       "  <tbody>\n",
       "    <tr>\n",
       "      <th>1</th>\n",
       "      <td>9</td>\n",
       "      <td>0.09</td>\n",
       "    </tr>\n",
       "    <tr>\n",
       "      <th>2</th>\n",
       "      <td>12</td>\n",
       "      <td>0.12</td>\n",
       "    </tr>\n",
       "    <tr>\n",
       "      <th>3</th>\n",
       "      <td>18</td>\n",
       "      <td>0.18</td>\n",
       "    </tr>\n",
       "    <tr>\n",
       "      <th>4</th>\n",
       "      <td>22</td>\n",
       "      <td>0.22</td>\n",
       "    </tr>\n",
       "    <tr>\n",
       "      <th>5</th>\n",
       "      <td>17</td>\n",
       "      <td>0.17</td>\n",
       "    </tr>\n",
       "    <tr>\n",
       "      <th>6</th>\n",
       "      <td>22</td>\n",
       "      <td>0.22</td>\n",
       "    </tr>\n",
       "  </tbody>\n",
       "</table>\n",
       "</div>"
      ],
      "text/plain": [
       "      frequence  relative frequency\n",
       "dice                               \n",
       "1             9                0.09\n",
       "2            12                0.12\n",
       "3            18                0.18\n",
       "4            22                0.22\n",
       "5            17                0.17\n",
       "6            22                0.22"
      ]
     },
     "execution_count": 31,
     "metadata": {},
     "output_type": "execute_result"
    }
   ],
   "source": [
    "# Create histogram\n",
    "freq, _ = np.histogram(sample, bins = 6, range= (1,7))\n",
    "pd.DataFrame({'frequence' : freq,\n",
    "              'relative frequency' : freq / num_trial},\n",
    "              index = pd.Index(np.arange(1,7), name = 'dice'))"
   ]
  },
  {
   "cell_type": "code",
   "execution_count": 32,
   "id": "a0563e52",
   "metadata": {},
   "outputs": [
    {
     "data": {
      "image/png": "[encoded data removed]",
      "text/plain": [
       "<Figure size 1000x600 with 1 Axes>"
      ]
     },
     "metadata": {},
     "output_type": "display_data"
    }
   ],
   "source": [
    "fig = plt.figure(figsize=(10, 6))\n",
    "ax = fig.add_subplot(111)\n",
    "ax.hist(sample, bins=6, range=(1, 7), density=True, rwidth=0.8)\n",
    "\n",
    "# 실제의 확률분포를 가로선으로 표시\n",
    "ax.hlines(prob, np.arange(1, 7), np.arange(2, 8), colors='gray')\n",
    "\n",
    "# 막대 그래프의 [1.5, 2.5, ..., 6.5]에 눈금을 표시\n",
    "ax.set_xticks(np.linspace(1.5, 6.5, 6))\n",
    "# 주사위 눈의 값은 [1, 2, 3, 4, 5, 6]\n",
    "ax.set_xticklabels(np.arange(1, 7))\n",
    "ax.set_xlabel('dice')\n",
    "ax.set_ylabel('relative frequency')\n",
    "plt.show()"
   ]
  },
  {
   "cell_type": "code",
   "execution_count": 36,
   "id": "18e466c8",
   "metadata": {},
   "outputs": [],
   "source": [
    "# Try 10000 times\n",
    "num_trial = 10000\n",
    "sample = np.random.choice(dice, num_trial, p = prob)"
   ]
  },
  {
   "cell_type": "code",
   "execution_count": 37,
   "id": "763b198d",
   "metadata": {},
   "outputs": [
    {
     "data": {
      "image/png": "[encoded data removed]",
      "text/plain": [
       "<Figure size 1000x600 with 1 Axes>"
      ]
     },
     "metadata": {},
     "output_type": "display_data"
    }
   ],
   "source": [
    "fig = plt.figure(figsize=(10, 6))\n",
    "ax = fig.add_subplot(111)\n",
    "ax.hist(sample, bins=6, range=(1, 7), density=True, rwidth=0.8)\n",
    "\n",
    "\n",
    "ax.hlines(prob, np.arange(1, 7), np.arange(2, 8), colors='gray')\n",
    "ax.set_xticks(np.linspace(1.5, 6.5, 6))\n",
    "\n",
    "ax.set_xticklabels(np.arange(1, 7))\n",
    "ax.set_xlabel('dice')\n",
    "ax.set_ylabel('relative frequency')\n",
    "plt.show()"
   ]
  },
  {
   "cell_type": "markdown",
   "id": "b0ef528b",
   "metadata": {},
   "source": [
    "## 4.3 Probability in inferential statistics"
   ]
  },
  {
   "cell_type": "code",
   "execution_count": 38,
   "id": "ccbd905e",
   "metadata": {},
   "outputs": [
    {
     "data": {
      "image/png": "[encoded data removed]",
      "text/plain": [
       "<Figure size 1000x600 with 1 Axes>"
      ]
     },
     "metadata": {},
     "output_type": "display_data"
    }
   ],
   "source": [
    "fig = plt.figure(figsize=(10, 6))\n",
    "ax = fig.add_subplot(111)\n",
    "\n",
    "# All students\n",
    "ax.hist(scores, bins=100, range=(0, 100), density=True)\n",
    "ax.set_xlim(20, 100)\n",
    "ax.set_ylim(0, 0.042)\n",
    "ax.set_xlabel('score')\n",
    "ax.set_ylabel('relative frequency')\n",
    "plt.show()"
   ]
  },
  {
   "cell_type": "markdown",
   "id": "68454f79",
   "metadata": {},
   "source": [
    "- 69 Scores accounted for 4% of all students\n",
    "- The relative frequency corresponds to the probability of obtaining that score\n",
    "- 무작위 추출은 이와 같이 확률 분포를 따르는 확률 변수의 시행이다"
   ]
  },
  {
   "cell_type": "code",
   "execution_count": 39,
   "id": "95f4e294",
   "metadata": {},
   "outputs": [
    {
     "data": {
      "text/plain": [
       "50"
      ]
     },
     "execution_count": 39,
     "metadata": {},
     "output_type": "execute_result"
    }
   ],
   "source": [
    "np.random.choice(scores)"
   ]
  },
  {
   "cell_type": "code",
   "execution_count": 40,
   "id": "d23db770",
   "metadata": {},
   "outputs": [
    {
     "data": {
      "image/png": "[encoded data removed]",
      "text/plain": [
       "<Figure size 1000x600 with 1 Axes>"
      ]
     },
     "metadata": {},
     "output_type": "display_data"
    }
   ],
   "source": [
    "sample = np.random.choice(scores, 10000)\n",
    "\n",
    "fig = plt.figure(figsize=(10, 6))\n",
    "ax = fig.add_subplot(111)\n",
    "ax.hist(sample, bins=100, range=(0, 100), density=True)\n",
    "ax.set_xlim(20, 100)\n",
    "ax.set_ylim(0, 0.042)\n",
    "ax.set_xlabel('score')\n",
    "ax.set_ylabel('relative frequency')\n",
    "plt.show()"
   ]
  },
  {
   "cell_type": "markdown",
   "id": "732f7cff",
   "metadata": {},
   "source": [
    "Law of large number\n",
    "- 시행 횟수를 늘리면 상대도수 → 이론 확률에 수렴 (주사위 사례)\n",
    "- 표본 크기를 늘리면 표본 분포 → 모집단 분포에 수렴 (표본추출 사례)\n",
    "- 즉, 둘 다 공통적으로 **“많이 하면 할수록 실제(모집단/이론) 분포에 가까워진다”**"
   ]
  },
  {
   "cell_type": "code",
   "execution_count": 44,
   "id": "90391ff2",
   "metadata": {},
   "outputs": [
    {
     "data": {
      "image/png": "[encoded data removed]",
      "text/plain": [
       "<Figure size 1000x600 with 1 Axes>"
      ]
     },
     "metadata": {},
     "output_type": "display_data"
    }
   ],
   "source": [
    "# 10,000 of sample mean -> check again\n",
    "sample_means = [np.random.choice(scores, 20).mean()\n",
    "                for _ in range(10000)]\n",
    "\n",
    "fig = plt.figure(figsize=(10, 6))\n",
    "ax = fig.add_subplot(111)\n",
    "ax.hist(sample_means, bins=100, range=(0, 100), density=True)\n",
    "# 모평균을 세로선으로 표시\n",
    "ax.vlines(np.mean(scores), 0, 1, 'gray')\n",
    "ax.set_xlim(50, 90)\n",
    "ax.set_ylim(0, 0.13)\n",
    "ax.set_xlabel('score')\n",
    "ax.set_ylabel('relative frequency')\n",
    "plt.show()"
   ]
  },
  {
   "cell_type": "markdown",
   "id": "a7009b3c",
   "metadata": {},
   "source": []
  }
 ],
 "metadata": {
  "kernelspec": {
   "display_name": "ds_study",
   "language": "python",
   "name": "python3"
  },
  "language_info": {
   "codemirror_mode": {
    "name": "ipython",
    "version": 3
   },
   "file_extension": ".py",
   "mimetype": "text/x-python",
   "name": "python",
   "nbconvert_exporter": "python",
   "pygments_lexer": "ipython3",
   "version": "3.12.7"
  }
 },
 "nbformat": 4,
 "nbformat_minor": 5
}
